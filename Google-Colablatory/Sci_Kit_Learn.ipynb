{
  "cells": [
    {
      "cell_type": "markdown",
      "metadata": {
        "id": "Ok-iB2puQzvP"
      },
      "source": [
        "# 機械学習で画像認識！\n",
        "- [参考1](https://qiita.com/Yu_unI1/items/cc992918c6f940d10699)\n",
        "- [参考2](https://sorabatake.jp/11731/)\n",
        "- 学習モデルはいろいろ試せると思うよ"
      ]
    },
    {
      "cell_type": "code",
      "execution_count": null,
      "metadata": {
        "colab": {
          "base_uri": "https://localhost:8080/"
        },
        "id": "5En0LoaNG01i",
        "outputId": "245ddc6a-4533-40fc-801d-e1759e51ab71"
      },
      "outputs": [
        {
          "name": "stdout",
          "output_type": "stream",
          "text": [
            "Mounted at /content/drive\n"
          ]
        }
      ],
      "source": [
        "from google.colab import drive\n",
        "drive.mount('/content/drive') #Google Driveをマウントする"
      ]
    },
    {
      "cell_type": "code",
      "execution_count": null,
      "metadata": {
        "id": "a8c76DkQIkTn"
      },
      "outputs": [],
      "source": [
        "# 沢山ライブラリをインポート\n",
        "import numpy as np\n",
        "import random #擬似乱数を生成するライブラリー\n",
        "from PIL import Image, ImageOps #画像処理ライブラリー\n",
        "from sklearn.metrics import accuracy_score #モデルの正解率を計算するライブラリー\n",
        "import glob #ファイルパス名を取得するライブラリ\n",
        "from PIL import Image, ImageOps #画像処理ライブラリー"
      ]
    },
    {
      "cell_type": "code",
      "execution_count": null,
      "metadata": {
        "colab": {
          "base_uri": "https://localhost:8080/"
        },
        "id": "9kFmLOU8IoHk",
        "outputId": "a3fc9cd4-2823-4eee-834a-1f0209116bf3"
      },
      "outputs": [
        {
          "name": "stdout",
          "output_type": "stream",
          "text": [
            "num of class = 3 , classes = ['空', '紙', '段ボール']\n",
            "50\n",
            "50\n",
            "50\n"
          ]
        }
      ],
      "source": [
        "# 画像を学習用に圧縮\n",
        "from google.colab.patches import cv2_imshow\n",
        "\n",
        "labels =[\"A\", \"B\", \"C\"] # 適当な名前でいいんよ\n",
        "pathes = [\"/content/drive/MyDrive/AAA\", \"/content/drive/MyDrive/BBB\", \"/content/drive/MyDrive/CCC\"] # Drive上の教師データのフォルダを指定\n",
        "n_classes = len(labels)\n",
        "print(f\"num of class = {n_classes} , classes = {labels}\")\n",
        "\n",
        "X = []\n",
        "Y = []\n",
        "\n",
        "for i in range(n_classes):\n",
        "  files = glob.glob(pathes[i] + \"/*.jpg\")\n",
        "  print(len(files))\n",
        "  for file in files:\n",
        "    img1 = Image.open(file)\n",
        "    img = img1.resize((64,64)) # 画像サイズ(X x Y),小さいほうが基本良い\n",
        "    im_array = np.ravel(np.asarray(img)) # 画像を配列に変換\n",
        "    im_regularized = im_array/255. # 正規化\n",
        "    X.append(im_regularized) # 画像を一つの配列にまとめる、ここが機械学習の闇\n",
        "    Y.append(i)\n",
        "\n",
        "    # 上下反転\n",
        "    img1 = ImageOps.flip(img1)\n",
        "    img = img1.resize((64,64)) # 画像サイズ(X x Y),小さいほうが基本良い\n",
        "    im_array = np.ravel(np.asarray(img)) # 画像を配列に変換\n",
        "    im_regularized = im_array/255. # 正規化\n",
        "    X.append(im_regularized) # 画像を一つの配列にまとめる、ここが機械学習の闇\n",
        "    Y.append(i)\n",
        "\n",
        "    # 左右反転\n",
        "    img1 = ImageOps.mirror(img1)\n",
        "    img = img1.resize((64,64)) # 画像サイズ(X x Y),小さいほうが基本良い\n",
        "    im_array = np.ravel(np.asarray(img)) # 画像を配列に変換\n",
        "    im_regularized = im_array/255. # 正規化\n",
        "    X.append(im_regularized) # 画像を一つの配列にまとめる、ここが機械学習の闇\n",
        "    Y.append(i)\n",
        "\n",
        "    # 上下左右反転\n",
        "    img1 = ImageOps.mirror(img1)\n",
        "    img1 = ImageOps.flip(img1)\n",
        "    img = img1.resize((64,64)) # 画像サイズ(X x Y),小さいほうが基本良い\n",
        "    im_array = np.ravel(np.asarray(img)) # 画像を配列に変換\n",
        "    im_regularized = im_array/255. # 正規化\n",
        "    X.append(im_regularized) # 画像を一つの配列にまとめる、ここが機械学習の闇\n",
        "    Y.append(i)"
      ]
    },
    {
      "cell_type": "code",
      "execution_count": null,
      "metadata": {
        "id": "XcUryOJBI3Q0"
      },
      "outputs": [],
      "source": [
        "# 学習用のデータと評価用のデータを9:1で分割\n",
        "from sklearn.model_selection import train_test_split\n",
        "X_train,X_test,Y_train,Y_test = train_test_split(X,Y,test_size=0.1)"
      ]
    },
    {
      "cell_type": "code",
      "execution_count": null,
      "metadata": {
        "colab": {
          "base_uri": "https://localhost:8080/"
        },
        "id": "BaDSmTdEI-xS",
        "outputId": "baa6b5d8-50d2-4398-e167-bfba335ee8a2"
      },
      "outputs": [
        {
          "name": "stdout",
          "output_type": "stream",
          "text": [
            "Train : 0.9981481481481481\n",
            "Test : 0.9666666666666667\n"
          ]
        }
      ],
      "source": [
        "from sklearn.svm import LinearSVC # ライブラリのインポート、サポートベクターマシン\n",
        "import xgboost as xgb # ライブラリのインポート、アンサンブル型、精度はいいけどちょい遅い\n",
        "\n",
        "# SVMの学習\n",
        "# model = LinearSVC(C=0.3, random_state=0) # インスタンスを生成\n",
        "# model.fit(X_train, Y_train) # モデルの学習\n",
        "\n",
        "# XGBoostの学習(コメント外してSVMにコメントつける)\n",
        "model = xgb.XGBClassifier(n_estimators=80, max_depth=4, gamma=3) # インスタンスの生成\n",
        "model.fit(X_train, Y_train) # モデルの学習\n",
        "\n",
        "# 学習データに対する精度\n",
        "print(\"Train :\", model.score(X_train,  Y_train))\n",
        "\n",
        "# テストデータに対する精度\n",
        "print(\"Test :\", model.score(X_test, Y_test))"
      ]
    },
    {
      "cell_type": "code",
      "execution_count": null,
      "metadata": {
        "id": "n_oWGpmWT8e4"
      },
      "outputs": [],
      "source": [
        "# Pickleによるモデル保存\n",
        "import pickle\n",
        "\n",
        "# モデルを保存する\n",
        "# この保存先もDriveにして任意の時にモデルを読み込めるようにしたい\n",
        "filename = 'finalized_model.pkl'\n",
        "pickle.dump(model, open(filename, 'wb'))"
      ]
    },
    {
      "cell_type": "code",
      "execution_count": null,
      "metadata": {
        "colab": {
          "base_uri": "https://localhost:8080/",
          "height": 152
        },
        "id": "z7VNTEr1QmoW",
        "outputId": "8c1a2f74-904f-471f-9b37-99f0d75f0fb0"
      },
      "outputs": [
        {
          "data": {
            "text/html": [
              "\n",
              "     <input type=\"file\" id=\"files-f366baae-7ec1-48fe-bf5c-8a494ecc2854\" name=\"files[]\" multiple disabled\n",
              "        style=\"border:none\" />\n",
              "     <output id=\"result-f366baae-7ec1-48fe-bf5c-8a494ecc2854\">\n",
              "      Upload widget is only available when the cell has been executed in the\n",
              "      current browser session. Please rerun this cell to enable.\n",
              "      </output>\n",
              "      <script>// Copyright 2017 Google LLC\n",
              "//\n",
              "// Licensed under the Apache License, Version 2.0 (the \"License\");\n",
              "// you may not use this file except in compliance with the License.\n",
              "// You may obtain a copy of the License at\n",
              "//\n",
              "//      http://www.apache.org/licenses/LICENSE-2.0\n",
              "//\n",
              "// Unless required by applicable law or agreed to in writing, software\n",
              "// distributed under the License is distributed on an \"AS IS\" BASIS,\n",
              "// WITHOUT WARRANTIES OR CONDITIONS OF ANY KIND, either express or implied.\n",
              "// See the License for the specific language governing permissions and\n",
              "// limitations under the License.\n",
              "\n",
              "/**\n",
              " * @fileoverview Helpers for google.colab Python module.\n",
              " */\n",
              "(function(scope) {\n",
              "function span(text, styleAttributes = {}) {\n",
              "  const element = document.createElement('span');\n",
              "  element.textContent = text;\n",
              "  for (const key of Object.keys(styleAttributes)) {\n",
              "    element.style[key] = styleAttributes[key];\n",
              "  }\n",
              "  return element;\n",
              "}\n",
              "\n",
              "// Max number of bytes which will be uploaded at a time.\n",
              "const MAX_PAYLOAD_SIZE = 100 * 1024;\n",
              "\n",
              "function _uploadFiles(inputId, outputId) {\n",
              "  const steps = uploadFilesStep(inputId, outputId);\n",
              "  const outputElement = document.getElementById(outputId);\n",
              "  // Cache steps on the outputElement to make it available for the next call\n",
              "  // to uploadFilesContinue from Python.\n",
              "  outputElement.steps = steps;\n",
              "\n",
              "  return _uploadFilesContinue(outputId);\n",
              "}\n",
              "\n",
              "// This is roughly an async generator (not supported in the browser yet),\n",
              "// where there are multiple asynchronous steps and the Python side is going\n",
              "// to poll for completion of each step.\n",
              "// This uses a Promise to block the python side on completion of each step,\n",
              "// then passes the result of the previous step as the input to the next step.\n",
              "function _uploadFilesContinue(outputId) {\n",
              "  const outputElement = document.getElementById(outputId);\n",
              "  const steps = outputElement.steps;\n",
              "\n",
              "  const next = steps.next(outputElement.lastPromiseValue);\n",
              "  return Promise.resolve(next.value.promise).then((value) => {\n",
              "    // Cache the last promise value to make it available to the next\n",
              "    // step of the generator.\n",
              "    outputElement.lastPromiseValue = value;\n",
              "    return next.value.response;\n",
              "  });\n",
              "}\n",
              "\n",
              "/**\n",
              " * Generator function which is called between each async step of the upload\n",
              " * process.\n",
              " * @param {string} inputId Element ID of the input file picker element.\n",
              " * @param {string} outputId Element ID of the output display.\n",
              " * @return {!Iterable<!Object>} Iterable of next steps.\n",
              " */\n",
              "function* uploadFilesStep(inputId, outputId) {\n",
              "  const inputElement = document.getElementById(inputId);\n",
              "  inputElement.disabled = false;\n",
              "\n",
              "  const outputElement = document.getElementById(outputId);\n",
              "  outputElement.innerHTML = '';\n",
              "\n",
              "  const pickedPromise = new Promise((resolve) => {\n",
              "    inputElement.addEventListener('change', (e) => {\n",
              "      resolve(e.target.files);\n",
              "    });\n",
              "  });\n",
              "\n",
              "  const cancel = document.createElement('button');\n",
              "  inputElement.parentElement.appendChild(cancel);\n",
              "  cancel.textContent = 'Cancel upload';\n",
              "  const cancelPromise = new Promise((resolve) => {\n",
              "    cancel.onclick = () => {\n",
              "      resolve(null);\n",
              "    };\n",
              "  });\n",
              "\n",
              "  // Wait for the user to pick the files.\n",
              "  const files = yield {\n",
              "    promise: Promise.race([pickedPromise, cancelPromise]),\n",
              "    response: {\n",
              "      action: 'starting',\n",
              "    }\n",
              "  };\n",
              "\n",
              "  cancel.remove();\n",
              "\n",
              "  // Disable the input element since further picks are not allowed.\n",
              "  inputElement.disabled = true;\n",
              "\n",
              "  if (!files) {\n",
              "    return {\n",
              "      response: {\n",
              "        action: 'complete',\n",
              "      }\n",
              "    };\n",
              "  }\n",
              "\n",
              "  for (const file of files) {\n",
              "    const li = document.createElement('li');\n",
              "    li.append(span(file.name, {fontWeight: 'bold'}));\n",
              "    li.append(span(\n",
              "        `(${file.type || 'n/a'}) - ${file.size} bytes, ` +\n",
              "        `last modified: ${\n",
              "            file.lastModifiedDate ? file.lastModifiedDate.toLocaleDateString() :\n",
              "                                    'n/a'} - `));\n",
              "    const percent = span('0% done');\n",
              "    li.appendChild(percent);\n",
              "\n",
              "    outputElement.appendChild(li);\n",
              "\n",
              "    const fileDataPromise = new Promise((resolve) => {\n",
              "      const reader = new FileReader();\n",
              "      reader.onload = (e) => {\n",
              "        resolve(e.target.result);\n",
              "      };\n",
              "      reader.readAsArrayBuffer(file);\n",
              "    });\n",
              "    // Wait for the data to be ready.\n",
              "    let fileData = yield {\n",
              "      promise: fileDataPromise,\n",
              "      response: {\n",
              "        action: 'continue',\n",
              "      }\n",
              "    };\n",
              "\n",
              "    // Use a chunked sending to avoid message size limits. See b/62115660.\n",
              "    let position = 0;\n",
              "    do {\n",
              "      const length = Math.min(fileData.byteLength - position, MAX_PAYLOAD_SIZE);\n",
              "      const chunk = new Uint8Array(fileData, position, length);\n",
              "      position += length;\n",
              "\n",
              "      const base64 = btoa(String.fromCharCode.apply(null, chunk));\n",
              "      yield {\n",
              "        response: {\n",
              "          action: 'append',\n",
              "          file: file.name,\n",
              "          data: base64,\n",
              "        },\n",
              "      };\n",
              "\n",
              "      let percentDone = fileData.byteLength === 0 ?\n",
              "          100 :\n",
              "          Math.round((position / fileData.byteLength) * 100);\n",
              "      percent.textContent = `${percentDone}% done`;\n",
              "\n",
              "    } while (position < fileData.byteLength);\n",
              "  }\n",
              "\n",
              "  // All done.\n",
              "  yield {\n",
              "    response: {\n",
              "      action: 'complete',\n",
              "    }\n",
              "  };\n",
              "}\n",
              "\n",
              "scope.google = scope.google || {};\n",
              "scope.google.colab = scope.google.colab || {};\n",
              "scope.google.colab._files = {\n",
              "  _uploadFiles,\n",
              "  _uploadFilesContinue,\n",
              "};\n",
              "})(self);\n",
              "</script> "
            ],
            "text/plain": [
              "<IPython.core.display.HTML object>"
            ]
          },
          "metadata": {},
          "output_type": "display_data"
        },
        {
          "name": "stdout",
          "output_type": "stream",
          "text": [
            "Saving 20240402223504.jpg to 20240402223504.jpg\n",
            "段ボール\n"
          ]
        },
        {
          "name": "stderr",
          "output_type": "stream",
          "text": [
            "<ipython-input-10-cfd7d3ec0dd4>:22: DeprecationWarning: Conversion of an array with ndim > 0 to a scalar is deprecated, and will error in future. Ensure you extract a single element from your array before performing this operation. (Deprecated NumPy 1.25.)\n",
            "  pred = int(loaded_model.predict(im_regularized))\n"
          ]
        }
      ],
      "source": [
        "from google.colab.patches import cv2_imshow\n",
        "from google.colab import files\n",
        "\n",
        "# 保存したモデルをロードする\n",
        "loaded_model = pickle.load(open(filename, 'rb'))\n",
        "# result = loaded_model.score(X_test, Y_test)\n",
        "# print(result)\n",
        "\n",
        "#sample画像の前処理\n",
        "image = files.upload() # ローカルからファイルをアップロード\n",
        "image_name = next(iter(image))\n",
        "img1 = Image.open(image_name)\n",
        "img2 = img1.resize((64,64)) # 画像サイズ(X x Y),小さいほうが基本良い\n",
        "img = np.array(img2)\n",
        "im_array = np.ravel(np.asarray(img)) # 画像を配列に変換\n",
        "im_regularized = im_array/255. # 正規化\n",
        "im_regularized = im_regularized.reshape(1, -1)\n",
        "# モデル推定\n",
        "pred = int(loaded_model.predict(im_regularized))\n",
        "print(labels[pred]) # 結果発表！"
      ]
    }
  ],
  "metadata": {
    "accelerator": "GPU",
    "colab": {
      "gpuType": "T4",
      "provenance": []
    },
    "kernelspec": {
      "display_name": "Python 3",
      "name": "python3"
    },
    "language_info": {
      "name": "python",
      "version": "3.9.5"
    }
  },
  "nbformat": 4,
  "nbformat_minor": 0
}
